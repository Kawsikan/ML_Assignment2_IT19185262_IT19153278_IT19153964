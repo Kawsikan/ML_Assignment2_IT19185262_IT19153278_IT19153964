{
 "cells": [
  {
   "cell_type": "code",
   "execution_count": 1,
   "metadata": {
    "id": "Z_r5iqVk7eic"
   },
   "outputs": [],
   "source": [
    "#initialisation\n",
    "import pandas as pd\n",
    "import numpy as np\n",
    "import matplotlib.pyplot as plt"
   ]
  },
  {
   "cell_type": "code",
   "execution_count": 2,
   "metadata": {
    "id": "IswfgjJ-kHi0"
   },
   "outputs": [],
   "source": [
    "%matplotlib inline"
   ]
  },
  {
   "cell_type": "code",
   "execution_count": 3,
   "metadata": {
    "id": "4b4nqcXgkPbF"
   },
   "outputs": [],
   "source": [
    "#dataset panda dataframe\n",
    "df = pd.DataFrame({\n",
    "    'x': [12, 20, 28, 18, 29, 33, 24, 45, 45, 52, 51, 52, 55, 53, 55, 61, 64, 69, 72],\n",
    "    'y': [39, 36, 30, 52, 54, 46, 55, 59, 63, 70, 66, 63, 58, 23, 14, 8, 19, 7, 24],\n",
    "})"
   ]
  },
  {
   "cell_type": "code",
   "execution_count": 4,
   "metadata": {
    "id": "vDNkb_1DlMei"
   },
   "outputs": [],
   "source": [
    "# define random seed as 200\n",
    "np.random.seed(200)\n",
    "# number of clusters we want\n",
    "k = 3\n",
    "# centroids[i] = [x, y] choose first centroid\n",
    "centroids = {\n",
    "    # select random number from 0 to 80\n",
    "    i+1: [np.random.randint(0, 80), np.random.randint(0, 80)]\n",
    "    for i in range(k)\n",
    "}"
   ]
  },
  {
   "cell_type": "code",
   "execution_count": 8,
   "metadata": {
    "colab": {
     "base_uri": "https://localhost:8080/",
     "height": 324
    },
    "id": "KZymrkTRmX9x",
    "outputId": "82d5fef8-c0c4-4e54-ed94-8cbb61b36ef2"
   },
   "outputs": [
    {
     "data": {
      "image/png": "[encoded data removed]",
      "text/plain": [
       "<Figure size 360x360 with 1 Axes>"
      ]
     },
     "metadata": {
      "needs_background": "light"
     },
     "output_type": "display_data"
    }
   ],
   "source": [
    "fig = plt.figure(figsize=(5,5))\n",
    "# creating scatter plot and passing x and y arrays into dataframe\n",
    "                              # colors also 3\n",
    "plt.scatter(df['x'], df['y'], color='k')\n",
    "colmap = {1: 'r', 2: 'g', 3: 'b'}\n",
    "\n",
    "for i in centroids.keys():\n",
    "  plt.scatter(*centroids[i], color=colmap[i])\n",
    "\n",
    "plt.xlim(0, 80)\n",
    "plt.ylim(0, 80)\n",
    "plt.show()"
   ]
  },
  {
   "cell_type": "code",
   "execution_count": 11,
   "metadata": {
    "colab": {
     "base_uri": "https://localhost:8080/",
     "height": 431
    },
    "id": "qV75d3ARcu7V",
    "outputId": "93542898-f975-4a8b-d697-c6c3b3801b28"
   },
   "outputs": [
    {
     "name": "stdout",
     "output_type": "stream",
     "text": [
      "    x   y  distance_form_1  distance_form_2  distance_form_3  closest color\n",
      "0  12  39        26.925824        56.080300        56.727418        1     r\n",
      "1  20  36        20.880613        48.373546        53.150729        1     r\n",
      "2  28  30        14.142136        41.761226        53.338541        1     r\n",
      "3  18  52        36.878178        50.990195        44.102154        1     r\n",
      "4  29  54        38.118237        40.804412        34.058773        3     b\n"
     ]
    },
    {
     "data": {
      "image/png": "[encoded data removed]",
      "text/plain": [
       "<Figure size 360x360 with 1 Axes>"
      ]
     },
     "metadata": {
      "needs_background": "light"
     },
     "output_type": "display_data"
    }
   ],
   "source": [
    "# assign stage assign each value to cluster\n",
    "def assignment(df, centroids):\n",
    "  for i in centroids.keys():\n",
    "    # sqrt((x1-x2)^2 - (y1-y2)^2)\n",
    "    df['distance_form_{}'.format(i)] = (\n",
    "        np.sqrt(\n",
    "            (df['x'] - centroids[i][0]) ** 2 + (df['y'] - centroids[i][1]) ** 2\n",
    "        )\n",
    "    )\n",
    "\n",
    "  centroid_distance_cols = ['distance_form_{}'.format(i) for i in centroids.keys()]\n",
    "  df['closest'] = df.loc[:, centroid_distance_cols].idxmin(axis=1)\n",
    "  df['closest'] = df['closest'].map(lambda x: int(x.lstrip('distance_form_')))\n",
    "  df['color'] = df['closest'].map(lambda x: colmap[x])\n",
    "  return df\n",
    "\n",
    "df = assignment(df, centroids)\n",
    "print(df.head())\n",
    "\n",
    "fig = plt.figure(figsize=(5, 5))\n",
    "plt.scatter(df['x'], df['y'], color=df['color'], alpha=0.5, edgecolor='k')\n",
    "for i in centroids.keys():\n",
    "  plt.scatter(*centroids[i], color=colmap[i])\n",
    "plt.xlim(0, 80)\n",
    "plt.ylim(0, 80)\n",
    "plt.show()"
   ]
  },
  {
   "cell_type": "code",
   "execution_count": 13,
   "metadata": {
    "colab": {
     "base_uri": "https://localhost:8080/",
     "height": 324
    },
    "id": "Sy1owiYbhrWE",
    "outputId": "b964ac3b-1e5e-4287-a2f7-5660b4b8ab1b"
   },
   "outputs": [
    {
     "data": {
      "image/png": "[encoded data removed]",
      "text/plain": [
       "<Figure size 360x360 with 1 Axes>"
      ]
     },
     "metadata": {
      "needs_background": "light"
     },
     "output_type": "display_data"
    }
   ],
   "source": [
    "# centroids are updates\n",
    "import copy\n",
    "\n",
    "old_centroids = copy.deepcopy(centroids)\n",
    "\n",
    "def update(k):\n",
    "  for i in centroids.keys():\n",
    "    centroids[i][0] = np.mean(df[df['closest'] == i]['x'])\n",
    "    centroids[i][1] = np.mean(df[df['closest'] == i]['y'])\n",
    "  return k\n",
    "\n",
    "centroids = update(centroids)\n",
    "\n",
    "fig = plt.figure(figsize=(5, 5))\n",
    "ax = plt.axes()\n",
    "plt.scatter(df['x'], df['y'], color=df['color'], alpha=0.5, edgecolor='k')\n",
    "\n",
    "for i in centroids.keys():\n",
    "  plt.scatter(*centroids[i], color=colmap[i])\n",
    "\n",
    "plt.xlim(0, 80)\n",
    "plt.ylim(0, 80)\n",
    "\n",
    "for i in old_centroids.keys():\n",
    "  old_x = old_centroids[i][0]\n",
    "  old_y = old_centroids[i][1]\n",
    "  dx = (centroids[i][0] - old_centroids[i][0]) * 0.75\n",
    "  dy = (centroids[i][1] - old_centroids[i][1]) * 0.75\n",
    "  ax.arrow(old_x, old_y, dx, dy, head_width=2, head_length=3, fc=colmap[i], ec=colmap[i])\n",
    "\n",
    "plt.show()\n",
    "  "
   ]
  },
  {
   "cell_type": "code",
   "execution_count": 14,
   "metadata": {
    "colab": {
     "base_uri": "https://localhost:8080/",
     "height": 324
    },
    "id": "Feo-qdOTkLfP",
    "outputId": "e0f2f2cf-a779-4ba2-b9a0-cfa2335ba9f7"
   },
   "outputs": [
    {
     "data": {
      "image/png": "[encoded data removed]",
      "text/plain": [
       "<Figure size 360x360 with 1 Axes>"
      ]
     },
     "metadata": {
      "needs_background": "light"
     },
     "output_type": "display_data"
    }
   ],
   "source": [
    "# repeat assignment stage\n",
    "df = assignment(df, centroids)\n",
    "\n",
    "# plot results\n",
    "fig = plt.figure(figsize=(5, 5))\n",
    "plt.scatter(df['x'], df['y'], color=df['color'], alpha=0.5, edgecolor='k')\n",
    "for i in centroids.keys():\n",
    "  plt.scatter(*centroids[i], color=colmap[i])\n",
    "plt.xlim(0, 80)\n",
    "plt.ylim(0, 80)\n",
    "plt.show()\n"
   ]
  },
  {
   "cell_type": "code",
   "execution_count": 15,
   "metadata": {
    "colab": {
     "base_uri": "https://localhost:8080/",
     "height": 324
    },
    "id": "M__qBnb4lcYc",
    "outputId": "9275a229-3fed-4e33-dd37-01ac5ce01c89"
   },
   "outputs": [
    {
     "data": {
      "image/png": "[encoded data removed]",
      "text/plain": [
       "<Figure size 360x360 with 1 Axes>"
      ]
     },
     "metadata": {
      "needs_background": "light"
     },
     "output_type": "display_data"
    }
   ],
   "source": [
    "# continue untill all assigned categories don't change any more\n",
    "while True:\n",
    "  closest_centroids = df['closest'].copy(deep=True)\n",
    "  centroids = update(centroids)\n",
    "  df = assignment(df, centroids)\n",
    "  if closest_centroids.equals(df['closest']):\n",
    "    break\n",
    "\n",
    "fig = plt.figure(figsize=(5, 5))\n",
    "plt.scatter(df['x'], df['y'], color=df['color'], alpha=0.5, edgecolor='k')\n",
    "for i in centroids.keys():\n",
    "  plt.scatter(*centroids[i], color=colmap[i])\n",
    "plt.xlim(0, 80)\n",
    "plt.ylim(0, 80)\n",
    "plt.show()"
   ]
  },
  {
   "cell_type": "code",
   "execution_count": 17,
   "metadata": {
    "colab": {
     "base_uri": "https://localhost:8080/"
    },
    "id": "yFaGkahZmROC",
    "outputId": "efec98bf-a96a-4e43-b8c5-5158ddfbdaed"
   },
   "outputs": [
    {
     "data": {
      "text/plain": [
       "KMeans(n_clusters=3)"
      ]
     },
     "execution_count": 17,
     "metadata": {},
     "output_type": "execute_result"
    }
   ],
   "source": [
    "df = pd.DataFrame({\n",
    "    'x': [12, 20, 28, 18, 29, 33, 24, 45, 45, 52, 51, 52, 55, 53, 55, 61, 64, 69, 72],\n",
    "    'y': [39, 36, 30, 52, 54, 46, 55, 59, 63, 70, 66, 63, 58, 23, 14, 8, 19, 7, 24],\n",
    "})\n",
    "\n",
    "from sklearn.cluster import KMeans\n",
    "\n",
    "kmeans = KMeans(n_clusters=3)\n",
    "# store values of x and y cordinates variables\n",
    "kmeans.fit(df)"
   ]
  },
  {
   "cell_type": "code",
   "execution_count": 18,
   "metadata": {
    "id": "SbStBoLpnJcz"
   },
   "outputs": [],
   "source": [
    "labels = kmeans.predict(df)\n",
    "centroids = kmeans.cluster_centers_"
   ]
  },
  {
   "cell_type": "code",
   "execution_count": 19,
   "metadata": {
    "colab": {
     "base_uri": "https://localhost:8080/",
     "height": 324
    },
    "id": "fJSFe8SgnUno",
    "outputId": "d16a5acc-931f-4203-b45b-1abc6a576b78"
   },
   "outputs": [
    {
     "data": {
      "image/png": "[encoded data removed]",
      "text/plain": [
       "<Figure size 360x360 with 1 Axes>"
      ]
     },
     "metadata": {
      "needs_background": "light"
     },
     "output_type": "display_data"
    }
   ],
   "source": [
    "fig = plt.figure(figsize=(5,5))\n",
    "\n",
    "colors = map(lambda x: colmap[x+1], labels)\n",
    "colors1 = list(colors)\n",
    "\n",
    "# creating scatter plot and passing x and y arrays into dataframe\n",
    "                              # colors also 3\n",
    "plt.scatter(df['x'], df['y'], color=colors1, alpha=0.5, edgecolor='k')\n",
    "\n",
    "for idx, centroid in enumerate(centroids):\n",
    "  plt.scatter(*centroid, color=colmap[idx+1])\n",
    "\n",
    "plt.xlim(0, 80)\n",
    "plt.ylim(0, 80)\n",
    "plt.show()"
   ]
  }
 ],
 "metadata": {
  "colab": {
   "collapsed_sections": [],
   "name": "test.ipynb",
   "provenance": []
  },
  "kernelspec": {
   "display_name": "Python 3 (ipykernel)",
   "language": "python",
   "name": "python3"
  },
  "language_info": {
   "codemirror_mode": {
    "name": "ipython",
    "version": 3
   },
   "file_extension": ".py",
   "mimetype": "text/x-python",
   "name": "python",
   "nbconvert_exporter": "python",
   "pygments_lexer": "ipython3",
   "version": "3.9.7"
  }
 },
 "nbformat": 4,
 "nbformat_minor": 1
}
